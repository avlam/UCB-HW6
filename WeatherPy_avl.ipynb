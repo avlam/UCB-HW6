{
 "cells": [
  {
   "cell_type": "markdown",
   "metadata": {},
   "source": [
    "# WeatherPy \n",
    "UCB Extension HW6\n",
    "written by A. Lam"
   ]
  },
  {
   "cell_type": "markdown",
   "metadata": {},
   "source": [
    "# Analysis\n",
    "- Observation 1: As evidenced by the Temperature vs. Latitude scatterplot, temperature appears to behave roughly as a function of latitude, with a local maximum at latitude 0 (the equator).\n",
    "- Observation 2: Cloudiness, Wind Speed and Humidity do not appear to be functions of latitude, as scatterplots of the three do not show any clear relationship  and appear mostly randomly scattered.\n",
    "- Observation 3: Cloudiness, Wind Speed, and Humidity don't appear to bear any sort of direct relationship to longgitude either."
   ]
  },
  {
   "cell_type": "markdown",
   "metadata": {},
   "source": [
    "# Setup"
   ]
  },
  {
   "cell_type": "code",
   "execution_count": 1,
   "metadata": {
    "collapsed": true
   },
   "outputs": [],
   "source": [
    "# Modules\n",
    "# Other modules are imported within the functions in which they are relevant\n",
    "import pandas as pd\n",
    "import matplotlib.pyplot as plt\n",
    "import os"
   ]
  },
  {
   "cell_type": "markdown",
   "metadata": {},
   "source": [
    "# Generate Coordinates"
   ]
  },
  {
   "cell_type": "code",
   "execution_count": 2,
   "metadata": {
    "collapsed": true
   },
   "outputs": [],
   "source": [
    "def rand_coord():\n",
    "    import random\n",
    "    # Lat ranges from degrees [-90, 90] (N,S)\n",
    "    lat = 180*random.random()-90 \n",
    "    # Long ranges from degrees [-180, 180] (E,W)\n",
    "    long = 360*random.random()-180\n",
    "    return [lat,long]"
   ]
  },
  {
   "cell_type": "markdown",
   "metadata": {},
   "source": [
    "# Convert Coordinates to City, Country"
   ]
  },
  {
   "cell_type": "code",
   "execution_count": 3,
   "metadata": {
    "collapsed": true
   },
   "outputs": [],
   "source": [
    "def coord2city(coords):\n",
    "    # assume coords is a 2 item list of form: [lat,long]\n",
    "    from citipy import citipy\n",
    "    # extracts city name\n",
    "    city = citipy.nearest_city(coords[0],coords[1]).city_name\n",
    "    # extracts country code\n",
    "    country = citipy.nearest_city(coords[0],coords[1]).country_code\n",
    "    out = (city, country)\n",
    "    return out"
   ]
  },
  {
   "cell_type": "markdown",
   "metadata": {},
   "source": [
    "# API Call\n",
    "API call is broken into three functions:\n",
    "1. Call rand_coord and coord2city to generate an API call and touch endpoint\n",
    "2. Check for a valid response, if not, run another API call\n",
    "3. Output valid API call response to dataframe"
   ]
  },
  {
   "cell_type": "code",
   "execution_count": 4,
   "metadata": {
    "collapsed": true
   },
   "outputs": [],
   "source": [
    "def check_city_query(city, country_code):\n",
    "    this_query = pd.DataFrame({\n",
    "        'City':city,\n",
    "        'Country Code':country_code,\n",
    "        'Query String': city + ',' + country_code\n",
    "    }, index=[0])\n",
    "    try:\n",
    "        blacklist = pd.read_csv('failed_queries.csv')\n",
    "        if this_query['Query String'] in blacklist['Query String']:\n",
    "            approved_query = False\n",
    "        else:\n",
    "            approved_query = True\n",
    "    except:\n",
    "        approved_query = True\n",
    "    return approved_query"
   ]
  },
  {
   "cell_type": "code",
   "execution_count": 5,
   "metadata": {},
   "outputs": [],
   "source": [
    "def rand_city_API(debug = False):\n",
    "    # Modules\n",
    "    import requests as req\n",
    "    import json\n",
    "    import OpenWeatherMap_API as owm\n",
    "    \n",
    "    query_approved = False\n",
    "    \n",
    "    while query_approved == False:\n",
    "        # generate city and log coords, name, and country\n",
    "        coords = rand_coord()\n",
    "\n",
    "        # Keep variables for output\n",
    "        city, country_code = coord2city(coords)\n",
    "        \n",
    "        # Check generated query\n",
    "        query_approved = check_city_query(city, country_code)\n",
    "    \n",
    "    city_id_q = '?q=' + city + ',' + country_code\n",
    "    # API query structure\n",
    "    base_url = 'http://api.openweathermap.org/data/2.5/weather'\n",
    "    api_key = '&appid=' + owm.avl\n",
    "    units = '&units=imperial'\n",
    "    # construct query URL\n",
    "    clean_url = base_url+city_id_q+units+'&appid=InsertKey'\n",
    "    url = base_url+city_id_q+units+api_key\n",
    "    # make API call\n",
    "    if debug:\n",
    "        print('processing URL: ' + clean_url)\n",
    "    response = req.get(url).json()\n",
    "    \n",
    "    #print(json.dumps(response,indent=2,sort_keys=True))\n",
    "    \n",
    "    return (response,clean_url,city,country_code,coords[0],coords[1])"
   ]
  },
  {
   "cell_type": "code",
   "execution_count": 6,
   "metadata": {
    "collapsed": true
   },
   "outputs": [],
   "source": [
    "def add_failed_query(city, country_code, lat, lon):\n",
    "    this_query = pd.DataFrame({\n",
    "        'City':city,\n",
    "        'Country Code':country_code,\n",
    "        'Latitude': lat,\n",
    "        'Longitude': lon,\n",
    "        'Query String': city + ',' + country_code\n",
    "    }, index=[0])\n",
    "    if os.path.isfile('failed_queries.csv'):\n",
    "        include_headers = False\n",
    "    else:\n",
    "        include_headers = True\n",
    "    with open('failed_queries.csv','a') as blacklist:\n",
    "        this_query.to_csv(blacklist, header = include_headers, index = False)"
   ]
  },
  {
   "cell_type": "code",
   "execution_count": 7,
   "metadata": {
    "collapsed": true
   },
   "outputs": [],
   "source": [
    "# Convert API response to dataframe\n",
    "def response2df(response, url='not provided'):\n",
    "    # assume input is a good API call to OpenWeatherMap API\n",
    "    \n",
    "    # output variables\n",
    "    city = response['name']\n",
    "    country_code = response['sys']['country']\n",
    "    humidity = response['main']['humidity']\n",
    "    temperature = response['main']['temp']\n",
    "    cloudiness = response['clouds']['all']\n",
    "    windspeed = response['wind']['speed']\n",
    "    latitude = response['coord']['lat']\n",
    "    longitude = response['coord']['lon']\n",
    "        \n",
    "    # Create dataframe of output variables\n",
    "    output_order = ['City', 'Country Code', 'Latitude',\n",
    "        'Longitude', 'Temperature', 'Humidity',\n",
    "        'Cloudiness', 'Wind Speed', 'URL']\n",
    "    out = pd.DataFrame({\n",
    "        'City' : city,\n",
    "        'Country Code' : country_code,\n",
    "        'Latitude' : latitude,\n",
    "        'Longitude' : longitude,\n",
    "        'Temperature' : temperature,\n",
    "        'Humidity' : humidity,\n",
    "        'Cloudiness' : cloudiness,\n",
    "        'Wind Speed' : windspeed,\n",
    "        'URL' : url\n",
    "    }, index = [0])\n",
    "    \n",
    "    return out[output_order]"
   ]
  },
  {
   "cell_type": "code",
   "execution_count": 8,
   "metadata": {
    "collapsed": true
   },
   "outputs": [],
   "source": [
    "def rand_city_data(debug = False):\n",
    "    is_valid = False\n",
    "    while is_valid == False:\n",
    "        response, url, city, country_code, lat, lon = rand_city_API(debug = debug)\n",
    "        if response['cod'] == 200:\n",
    "            df = response2df(response, url = url)\n",
    "            is_valid = True\n",
    "        else:\n",
    "            add_failed_query(city,country_code,lat,lon)\n",
    "            is_valid = False\n",
    "    return df"
   ]
  },
  {
   "cell_type": "code",
   "execution_count": null,
   "metadata": {},
   "outputs": [],
   "source": [
    "# Generate Data Set\n",
    "n_cities = 500 \n",
    "data = rand_city_data() # initial df to append to\n",
    "for i in range(n_cities - 1): # subtract 1 to accomodate for initial df\n",
    "    data = data.append(rand_city_data(), ignore_index=True)\n",
    "\n",
    "# Check if unique cities meets criteria\n",
    "# if not, drop duplicate rows and replace with new data\n",
    "while (data['City']+data['Country Code']).nunique() != n_cities:\n",
    "    for i in range(n_cities - len((data['City']+data['Country Code']).unique())): \n",
    "        data = data.append(rand_city_data(), ignore_index=True)\n",
    "    print('Generated ' + str(len((data['City']+data['Country Code']).unique())) + \n",
    "          ' unique cities out of ' + str(n_cities) + ' requested.')\n",
    "    data.drop_duplicates(keep = 'first', inplace = True)\n",
    "\n",
    "# Print Data Set to .csv\n",
    "data.to_csv('weather_data_avl.csv', index = False)"
   ]
  },
  {
   "cell_type": "code",
   "execution_count": null,
   "metadata": {
    "collapsed": true
   },
   "outputs": [],
   "source": [
    "blacklist = pd.read_csv('failed_queries.csv')"
   ]
  },
  {
   "cell_type": "code",
   "execution_count": null,
   "metadata": {},
   "outputs": [],
   "source": [
    "blacklist['Query String'].nunique()\n",
    "len(blacklist['Query String'])"
   ]
  },
  {
   "cell_type": "code",
   "execution_count": null,
   "metadata": {},
   "outputs": [],
   "source": [
    "data.head()"
   ]
  },
  {
   "cell_type": "markdown",
   "metadata": {},
   "source": [
    "# Plot scatterplot of coordinates for coverage"
   ]
  },
  {
   "cell_type": "code",
   "execution_count": null,
   "metadata": {},
   "outputs": [],
   "source": [
    "plt.plot(data['Longitude'],data['Latitude'],'.')\n",
    "plt.xlim([-180,180])\n",
    "plt.ylim([-90,90])\n",
    "plt.xlabel('Longitude')\n",
    "plt.ylabel('Latitude')\n",
    "plt.title('Coordinates of Dataset')\n",
    "plt.grid(True)\n",
    "plt.show()"
   ]
  },
  {
   "cell_type": "markdown",
   "metadata": {},
   "source": [
    "# Plot Temperature vs. Latitude"
   ]
  },
  {
   "cell_type": "code",
   "execution_count": null,
   "metadata": {},
   "outputs": [],
   "source": [
    "plt.plot(data['Latitude'],data['Temperature'],'.')\n",
    "plt.xlim([-90,90])\n",
    "plt.xlabel('Latitude')\n",
    "plt.ylabel('Temperature (C)')\n",
    "plt.title('Temperature vs. Latitude')\n",
    "plt.grid(True)\n",
    "plt.show()"
   ]
  },
  {
   "cell_type": "markdown",
   "metadata": {},
   "source": [
    "# Plot Humidity vs. Latitude and Longitude"
   ]
  },
  {
   "cell_type": "code",
   "execution_count": null,
   "metadata": {},
   "outputs": [],
   "source": [
    "plt.figure(figsize = (15,5))\n",
    "plt.subplot(1,2,1)\n",
    "plt.plot(data['Latitude'],data['Humidity'],'.')\n",
    "plt.xlim([-90,90])\n",
    "plt.xlabel('Latitude')\n",
    "plt.ylabel('Humidity (%)')\n",
    "plt.title('Humidity vs. Latitude')\n",
    "plt.grid(True)\n",
    "plt.subplot(1,2,2)\n",
    "plt.plot(data['Longitude'],data['Humidity'],'.')\n",
    "plt.xlim([-180,190])\n",
    "plt.xlabel('Longitude')\n",
    "plt.ylabel('Humidity (%)')\n",
    "plt.title('Humidity vs. Longitude')\n",
    "plt.grid(True)\n",
    "plt.show()"
   ]
  },
  {
   "cell_type": "markdown",
   "metadata": {},
   "source": [
    "# Plot Cloudiness vs. Latitude"
   ]
  },
  {
   "cell_type": "code",
   "execution_count": null,
   "metadata": {},
   "outputs": [],
   "source": [
    "plt.figure(figsize = (15,5))\n",
    "plt.subplot(1,2,1)\n",
    "plt.plot(data['Latitude'],data['Cloudiness'],'.')\n",
    "plt.xlim([-90,90])\n",
    "plt.xlabel('Latitude')\n",
    "plt.ylabel('Cloudiness (%)')\n",
    "plt.title('Cloudiness vs. Latitude')\n",
    "plt.grid(True)\n",
    "plt.subplot(1,2,2)\n",
    "plt.plot(data['Longitude'],data['Cloudiness'],'.')\n",
    "plt.xlim([-180,180])\n",
    "plt.xlabel('Longitude')\n",
    "plt.ylabel('Cloudiness (%)')\n",
    "plt.title('Cloudiness vs. Longitude')\n",
    "plt.grid(True)\n",
    "plt.show()"
   ]
  },
  {
   "cell_type": "markdown",
   "metadata": {},
   "source": [
    "# Plot Wind Speed vs. Latitude"
   ]
  },
  {
   "cell_type": "code",
   "execution_count": null,
   "metadata": {},
   "outputs": [],
   "source": [
    "plt.figure(figsize = (15,5))\n",
    "plt.subplot(1,2,1)\n",
    "plt.plot(data['Latitude'],data['Wind Speed'],'.')\n",
    "plt.xlim([-90,90])\n",
    "plt.xlabel('Latitude')\n",
    "plt.ylabel('Wind Speed (mph)')\n",
    "plt.title('Wind Speed vs. Latitude')\n",
    "plt.grid(True)\n",
    "plt.subplot(1,2,2)\n",
    "plt.plot(data['Longitude'],data['Wind Speed'],'.')\n",
    "plt.xlim([-180,180])\n",
    "plt.xlabel('Longitude')\n",
    "plt.ylabel('Wind Speed (mph)')\n",
    "plt.title('Wind Speed vs. Longitude')\n",
    "plt.grid(True)\n",
    "plt.show()"
   ]
  }
 ],
 "metadata": {
  "kernelspec": {
   "display_name": "Python 3",
   "language": "python",
   "name": "python3"
  },
  "language_info": {
   "codemirror_mode": {
    "name": "ipython",
    "version": 3
   },
   "file_extension": ".py",
   "mimetype": "text/x-python",
   "name": "python",
   "nbconvert_exporter": "python",
   "pygments_lexer": "ipython3",
   "version": "3.6.3"
  }
 },
 "nbformat": 4,
 "nbformat_minor": 2
}
