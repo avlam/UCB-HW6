{
 "cells": [
  {
   "cell_type": "markdown",
   "metadata": {},
   "source": [
    "# WeatherPy \n",
    "UCB Extension HW6\n",
    "written by A. Lam"
   ]
  },
  {
   "cell_type": "markdown",
   "metadata": {},
   "source": [
    "# Setup"
   ]
  },
  {
   "cell_type": "code",
   "execution_count": 15,
   "metadata": {},
   "outputs": [],
   "source": [
    "# Modules\n",
    "# Other modules are imported within the functions in which they are relevant\n",
    "import pandas as pd\n",
    "import matplotlib.pyplot as plt"
   ]
  },
  {
   "cell_type": "markdown",
   "metadata": {},
   "source": [
    "# Generate Coordinates"
   ]
  },
  {
   "cell_type": "code",
   "execution_count": 2,
   "metadata": {},
   "outputs": [],
   "source": [
    "def rand_coord():\n",
    "    import random\n",
    "    # Lat ranges from degrees [-90, 90] (N,S)\n",
    "    lat = round(180*random.random()-90,2) \n",
    "    # Long ranges from degrees [-180, 180] (E,W)\n",
    "    long = round(360*random.random()-180,2)\n",
    "    return [lat,long]"
   ]
  },
  {
   "cell_type": "markdown",
   "metadata": {},
   "source": [
    "# Convert Coordinates to City, Country"
   ]
  },
  {
   "cell_type": "code",
   "execution_count": 3,
   "metadata": {},
   "outputs": [],
   "source": [
    "def coord2city(coords):\n",
    "    # assume coords is a 2 item list of form: [lat,long]\n",
    "    from citipy import citipy\n",
    "    # extracts city name\n",
    "    city = citipy.nearest_city(coords[0],coords[1]).city_name\n",
    "    # extracts country code\n",
    "    country = citipy.nearest_city(coords[0],coords[1]).country_code\n",
    "    out = [city, country]\n",
    "    return out"
   ]
  },
  {
   "cell_type": "markdown",
   "metadata": {},
   "source": [
    "# API Call\n",
    "API call is broken into three functions:\n",
    "1. Call rand_coord and coord2city to generate an API call and touch endpoint\n",
    "2. Check for a valid response, if not, run another API call\n",
    "3. Output valid API call response to dataframe"
   ]
  },
  {
   "cell_type": "code",
   "execution_count": 4,
   "metadata": {},
   "outputs": [],
   "source": [
    "def rand_city_API():\n",
    "    # Modules\n",
    "    import requests as req\n",
    "    import json\n",
    "    import OpenWeatherMap_API as owm\n",
    "    \n",
    "    # generate city and log coords, name, and country\n",
    "    coords = rand_coord()\n",
    "    place = coord2city(coords)\n",
    "    \n",
    "    # Keep variables for output\n",
    "    city = place[0]\n",
    "    country_code = place[1]\n",
    "    \n",
    "    city_id_q = '?q=' + city + ',' + country_code\n",
    "    # API query structure\n",
    "    base_url = 'http://api.openweathermap.org/data/2.5/weather'\n",
    "    api_key = '&appid=' + owm.avl\n",
    "    units = '&units=imperial'\n",
    "    # construct query URL\n",
    "    url = base_url+city_id_q+units+api_key\n",
    "    # make API call\n",
    "    response = req.get(url).json()\n",
    "    \n",
    "    #print(json.dumps(response,indent=2,sort_keys=True))\n",
    "    \n",
    "    return response"
   ]
  },
  {
   "cell_type": "code",
   "execution_count": 5,
   "metadata": {},
   "outputs": [],
   "source": [
    "def response2df(response):\n",
    "    import pandas as pd\n",
    "    # assume input is a good API call to OpenWeatherMap API\n",
    "    \n",
    "    # output variables\n",
    "    city = response['name']\n",
    "    country_code = response['sys']['country']\n",
    "    humidity = response['main']['humidity']\n",
    "    temperature = response['main']['temp']\n",
    "    cloudiness = response['clouds']['all']\n",
    "    windspeed = response['wind']['speed']\n",
    "    latitude = response['coord']['lat']\n",
    "    longitude = response['coord']['lon']\n",
    "        \n",
    "    # Create dataframe of output variables\n",
    "    output_order = ['City', 'Country Code', 'Latitude',\n",
    "        'Longitude', 'Temperature', 'Humidity',\n",
    "        'Cloudiness', 'Wind Speed']\n",
    "    out = pd.DataFrame({\n",
    "        'City' : city,\n",
    "        'Country Code' : country_code,\n",
    "        'Latitude' : latitude,\n",
    "        'Longitude' : longitude,\n",
    "        'Temperature' : temperature,\n",
    "        'Humidity' : humidity,\n",
    "        'Cloudiness' : cloudiness,\n",
    "        'Wind Speed' : windspeed,\n",
    "    }, index = [0])\n",
    "    \n",
    "    return out[output_order]"
   ]
  },
  {
   "cell_type": "code",
   "execution_count": 6,
   "metadata": {},
   "outputs": [],
   "source": [
    "def rand_city_data():\n",
    "    is_valid = False\n",
    "    while is_valid == False:\n",
    "        response = rand_city_API()\n",
    "        if response['cod'] == 200:\n",
    "            df = response2df(response)\n",
    "            is_valid = True\n",
    "        else:\n",
    "            is_valid = False\n",
    "    return df"
   ]
  },
  {
   "cell_type": "code",
   "execution_count": 13,
   "metadata": {},
   "outputs": [
    {
     "name": "stdout",
     "output_type": "stream",
     "text": [
      "76 unique cities out of 100 requested.\n",
      "88 unique cities out of 100 requested.\n",
      "95 unique cities out of 100 requested.\n",
      "97 unique cities out of 100 requested.\n",
      "98 unique cities out of 100 requested.\n",
      "98 unique cities out of 100 requested.\n",
      "99 unique cities out of 100 requested.\n"
     ]
    }
   ],
   "source": [
    "# Generate Data Set\n",
    "n_cities = 100 \n",
    "data = rand_city_data() # initial df to append to\n",
    "for i in range(n_cities - 1): # subtract 1 to accomodate for initial df\n",
    "    data = data.append(rand_city_data(), ignore_index=True)\n",
    "\n",
    "# Check if unique cities meets criteria\n",
    "# if not, drop duplicate rows and replace with new data\n",
    "while len((data['City']+data['Country Code']).unique()) != n_cities:\n",
    "    print(str(len((data['City']+data['Country Code']).unique())) + \n",
    "          ' unique cities out of ' + str(n_cities) + ' requested.')\n",
    "    data.drop_duplicates(keep = 'first', inplace = True)\n",
    "    for i in range(n_cities - len((data['City']+data['Country Code']).unique())): \n",
    "        data = data.append(rand_city_data(), ignore_index=True)\n",
    "\n",
    "# Print Data Set to .csv\n",
    "data.to_csv('weather_data_avl.csv', index = False)"
   ]
  },
  {
   "cell_type": "code",
   "execution_count": 14,
   "metadata": {},
   "outputs": [
    {
     "data": {
      "text/html": [
       "<div>\n",
       "<style scoped>\n",
       "    .dataframe tbody tr th:only-of-type {\n",
       "        vertical-align: middle;\n",
       "    }\n",
       "\n",
       "    .dataframe tbody tr th {\n",
       "        vertical-align: top;\n",
       "    }\n",
       "\n",
       "    .dataframe thead th {\n",
       "        text-align: right;\n",
       "    }\n",
       "</style>\n",
       "<table border=\"1\" class=\"dataframe\">\n",
       "  <thead>\n",
       "    <tr style=\"text-align: right;\">\n",
       "      <th></th>\n",
       "      <th>City</th>\n",
       "      <th>Country Code</th>\n",
       "      <th>Latitude</th>\n",
       "      <th>Longitude</th>\n",
       "      <th>Temperature</th>\n",
       "      <th>Humidity</th>\n",
       "      <th>Cloudiness</th>\n",
       "      <th>Wind Speed</th>\n",
       "    </tr>\n",
       "  </thead>\n",
       "  <tbody>\n",
       "    <tr>\n",
       "      <th>0</th>\n",
       "      <td>Pangnirtung</td>\n",
       "      <td>CA</td>\n",
       "      <td>66.15</td>\n",
       "      <td>-65.71</td>\n",
       "      <td>3.55</td>\n",
       "      <td>88</td>\n",
       "      <td>56</td>\n",
       "      <td>6.64</td>\n",
       "    </tr>\n",
       "    <tr>\n",
       "      <th>1</th>\n",
       "      <td>Busselton</td>\n",
       "      <td>AU</td>\n",
       "      <td>-33.65</td>\n",
       "      <td>115.33</td>\n",
       "      <td>72.63</td>\n",
       "      <td>88</td>\n",
       "      <td>12</td>\n",
       "      <td>18.72</td>\n",
       "    </tr>\n",
       "    <tr>\n",
       "      <th>2</th>\n",
       "      <td>Quatre Cocos</td>\n",
       "      <td>MU</td>\n",
       "      <td>-20.21</td>\n",
       "      <td>57.76</td>\n",
       "      <td>84.20</td>\n",
       "      <td>74</td>\n",
       "      <td>40</td>\n",
       "      <td>8.05</td>\n",
       "    </tr>\n",
       "    <tr>\n",
       "      <th>3</th>\n",
       "      <td>Beringovskiy</td>\n",
       "      <td>RU</td>\n",
       "      <td>63.05</td>\n",
       "      <td>179.32</td>\n",
       "      <td>1.26</td>\n",
       "      <td>100</td>\n",
       "      <td>8</td>\n",
       "      <td>27.22</td>\n",
       "    </tr>\n",
       "    <tr>\n",
       "      <th>4</th>\n",
       "      <td>Hermanus</td>\n",
       "      <td>ZA</td>\n",
       "      <td>-34.42</td>\n",
       "      <td>19.23</td>\n",
       "      <td>59.94</td>\n",
       "      <td>77</td>\n",
       "      <td>44</td>\n",
       "      <td>3.85</td>\n",
       "    </tr>\n",
       "  </tbody>\n",
       "</table>\n",
       "</div>"
      ],
      "text/plain": [
       "           City Country Code  Latitude  Longitude  Temperature  Humidity  \\\n",
       "0   Pangnirtung           CA     66.15     -65.71         3.55        88   \n",
       "1     Busselton           AU    -33.65     115.33        72.63        88   \n",
       "2  Quatre Cocos           MU    -20.21      57.76        84.20        74   \n",
       "3  Beringovskiy           RU     63.05     179.32         1.26       100   \n",
       "4      Hermanus           ZA    -34.42      19.23        59.94        77   \n",
       "\n",
       "   Cloudiness  Wind Speed  \n",
       "0          56        6.64  \n",
       "1          12       18.72  \n",
       "2          40        8.05  \n",
       "3           8       27.22  \n",
       "4          44        3.85  "
      ]
     },
     "execution_count": 14,
     "metadata": {},
     "output_type": "execute_result"
    }
   ],
   "source": [
    "data.head()"
   ]
  },
  {
   "cell_type": "code",
   "execution_count": null,
   "metadata": {},
   "outputs": [],
   "source": [
    "# Plot scatterplot of coordinates for coverage\n",
    "plt.plot(data['Longitude'],data['Latitude'],'.')\n",
    "plt.xlim([-180,180])\n",
    "plt.ylim([-90,90])\n",
    "plt.xlabel('Longitude')\n",
    "plt.ylabel('Latitude')\n",
    "plt.title"
   ]
  },
  {
   "cell_type": "code",
   "execution_count": null,
   "metadata": {},
   "outputs": [],
   "source": [
    "# Plot Temperature vs. Latitude"
   ]
  },
  {
   "cell_type": "code",
   "execution_count": null,
   "metadata": {},
   "outputs": [],
   "source": [
    "# Plot Humidity vs. Latitude"
   ]
  },
  {
   "cell_type": "code",
   "execution_count": null,
   "metadata": {},
   "outputs": [],
   "source": [
    "# Plot Cloudiness vs. Latitude"
   ]
  },
  {
   "cell_type": "code",
   "execution_count": null,
   "metadata": {},
   "outputs": [],
   "source": [
    "# Plot Wind Speed vs. Latitude"
   ]
  },
  {
   "cell_type": "markdown",
   "metadata": {},
   "source": [
    "# Test Code"
   ]
  },
  {
   "cell_type": "code",
   "execution_count": null,
   "metadata": {},
   "outputs": [],
   "source": [
    "# Test functions to generate cities\n",
    "test = rand_coord()\n",
    "print(test)\n",
    "print(coord2city(test))\n",
    "print(coord2city(rand_coord()))\n",
    "coord2city(rand_coord())[0]\n",
    "\n",
    "rand_city_API()['cod']\n"
   ]
  },
  {
   "cell_type": "code",
   "execution_count": null,
   "metadata": {},
   "outputs": [],
   "source": [
    "for i in range(100):\n",
    "    print(coord2city(rand_coord()))"
   ]
  },
  {
   "cell_type": "code",
   "execution_count": null,
   "metadata": {},
   "outputs": [],
   "source": []
  }
 ],
 "metadata": {
  "kernelspec": {
   "display_name": "Python 3",
   "language": "python",
   "name": "python3"
  },
  "language_info": {
   "codemirror_mode": {
    "name": "ipython",
    "version": 3
   },
   "file_extension": ".py",
   "mimetype": "text/x-python",
   "name": "python",
   "nbconvert_exporter": "python",
   "pygments_lexer": "ipython3",
   "version": "3.6.3"
  }
 },
 "nbformat": 4,
 "nbformat_minor": 2
}
