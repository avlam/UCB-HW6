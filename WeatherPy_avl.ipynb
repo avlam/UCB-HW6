{
 "cells": [
  {
   "cell_type": "markdown",
   "metadata": {},
   "source": [
    "# WeatherPy \n",
    "UCB Extension HW6\n",
    "written by A. Lam"
   ]
  },
  {
   "cell_type": "markdown",
   "metadata": {},
   "source": [
    "# Analysis\n",
    "- Observation 1: As evidenced by the Temperature vs. Latitude scatterplot, temperature appears to behave roughly as a function of latitude, with a local maximum at latitude 0 (the equator).\n",
    "- Observation 2: Cloudiness, Wind Speed and Humidity do not appear to be functions of latitude, as scatterplots of the three do not show any clear relationship  and appear mostly randomly scattered.\n",
    "- Observation 3: Cloudiness, Wind Speed, and Humidity don't appear to bear any sort of direct relationship to longgitude either."
   ]
  },
  {
   "cell_type": "markdown",
   "metadata": {},
   "source": [
    "# Setup"
   ]
  },
  {
   "cell_type": "code",
   "execution_count": 1,
   "metadata": {
    "collapsed": true
   },
   "outputs": [],
   "source": [
    "# Modules\n",
    "# Other modules are imported within the functions in which they are relevant\n",
    "import pandas as pd\n",
    "import matplotlib.pyplot as plt\n",
    "import os\n",
    "from time import time, strftime, gmtime, sleep"
   ]
  },
  {
   "cell_type": "markdown",
   "metadata": {},
   "source": [
    "# Generate Coordinates"
   ]
  },
  {
   "cell_type": "code",
   "execution_count": 2,
   "metadata": {
    "collapsed": true
   },
   "outputs": [],
   "source": [
    "def rand_coord():\n",
    "    import random\n",
    "    # Lat ranges from degrees [-90, 90] (N,S)\n",
    "    lat = 180*random.random()-90 \n",
    "    # Long ranges from degrees [-180, 180] (E,W)\n",
    "    long = 360*random.random()-180\n",
    "    return [lat,long]"
   ]
  },
  {
   "cell_type": "markdown",
   "metadata": {},
   "source": [
    "# Convert Coordinates to City, Country"
   ]
  },
  {
   "cell_type": "code",
   "execution_count": 3,
   "metadata": {
    "collapsed": true
   },
   "outputs": [],
   "source": [
    "def coord2city(coords):\n",
    "    # assume coords is a 2 item list of form: [lat,long]\n",
    "    from citipy import citipy\n",
    "    # extracts city name\n",
    "    city = citipy.nearest_city(coords[0],coords[1]).city_name\n",
    "    # extracts country code\n",
    "    country = citipy.nearest_city(coords[0],coords[1]).country_code\n",
    "    out = (city, country)\n",
    "    return out"
   ]
  },
  {
   "cell_type": "markdown",
   "metadata": {},
   "source": [
    "# Utility Functions"
   ]
  },
  {
   "cell_type": "code",
   "execution_count": 44,
   "metadata": {
    "collapsed": true
   },
   "outputs": [],
   "source": [
    "# Compare intended query aggainst log of failed query calls.\n",
    "# if current query is already in log, throw disapproval\n",
    "def check_city_query(city, country_code):\n",
    "    this_query = pd.DataFrame({\n",
    "        'City':city,\n",
    "        'Country Code':country_code,\n",
    "        'Query String': city + ',' + country_code\n",
    "    }, index=[0])\n",
    "    try:\n",
    "        blacklist = pd.read_csv('failed_queries.csv')\n",
    "        if this_query['Query String'].isin(blacklist['Query String']).any():\n",
    "            approved_query = False\n",
    "        else:\n",
    "            approved_query = True\n",
    "    except:\n",
    "        approved_query = True\n",
    "    return approved_query"
   ]
  },
  {
   "cell_type": "code",
   "execution_count": 5,
   "metadata": {
    "collapsed": true
   },
   "outputs": [],
   "source": [
    "# For new queries that fail to return weather data, write into separate log file\n",
    "def add_failed_query(city, country_code, lat, lon):\n",
    "    this_query = pd.DataFrame({\n",
    "        'City':city,\n",
    "        'Country Code':country_code,\n",
    "        'Latitude': lat,\n",
    "        'Longitude': lon,\n",
    "        'Query String': city + ',' + country_code\n",
    "    }, index=[0])\n",
    "    if os.path.isfile('failed_queries.csv'):\n",
    "        include_headers = False\n",
    "    else:\n",
    "        include_headers = True\n",
    "    with open('failed_queries.csv','a') as blacklist:\n",
    "        this_query.to_csv(blacklist, header = include_headers, index = False)"
   ]
  },
  {
   "cell_type": "code",
   "execution_count": 6,
   "metadata": {
    "collapsed": true
   },
   "outputs": [],
   "source": [
    "# write to file a timestamped data generation record\n",
    "def log_generation_performance(date,duration,n_cities,n_iterations,file_name):\n",
    "    log_entry = pd.DataFrame({\n",
    "        'Date of Query':date,\n",
    "        'Time to Generate (s)':duration,\n",
    "        'Size':n_cities,\n",
    "        'Iteration Count':n_iterations,\n",
    "        'File':file_name\n",
    "    }, index=[0])\n",
    "    col_order = ['Date of Query','Time to Generate (s)','Size','Iteration Count','File']\n",
    "    if os.path.isfile('performance_log.csv'):\n",
    "        include_headers = False\n",
    "    else:\n",
    "        include_headers = True\n",
    "    with open('performance_log.csv','a') as log:\n",
    "        log_entry[col_order].to_csv(log, header = include_headers, index = False)"
   ]
  },
  {
   "cell_type": "markdown",
   "metadata": {},
   "source": [
    "# API Call\n",
    "API call is broken into three functions:\n",
    "1. Call rand_coord and coord2city to generate an API call and touch endpoint\n",
    "2. Check for a valid response, if not, run another API call\n",
    "3. Output valid API call response to dataframe"
   ]
  },
  {
   "cell_type": "code",
   "execution_count": 7,
   "metadata": {},
   "outputs": [],
   "source": [
    "def rand_city_API(debug = False):\n",
    "    # Modules\n",
    "    import requests as req\n",
    "    import json\n",
    "    import OpenWeatherMap_API as owm\n",
    "    \n",
    "    query_approved = False\n",
    "    \n",
    "    while query_approved == False:\n",
    "        # generate city and log coords, name, and country\n",
    "        coords = rand_coord()\n",
    "\n",
    "        # Keep variables for output\n",
    "        city, country_code = coord2city(coords)\n",
    "        \n",
    "        # Check generated query\n",
    "        query_approved = check_city_query(city, country_code)\n",
    "    \n",
    "    city_id_q = '?q=' + city + ',' + country_code\n",
    "    # API query structure\n",
    "    base_url = 'http://api.openweathermap.org/data/2.5/weather'\n",
    "    api_key = '&appid=' + owm.avl\n",
    "    units = '&units=imperial'\n",
    "    # construct query URL\n",
    "    clean_url = base_url+city_id_q+units+'&appid=InsertKey'\n",
    "    url = base_url+city_id_q+units+api_key\n",
    "    # make API call\n",
    "    if debug:\n",
    "        print('processing URL: ' + clean_url)\n",
    "    response = req.get(url).json()\n",
    "    \n",
    "    #print(json.dumps(response,indent=2,sort_keys=True))\n",
    "    \n",
    "    return (response,clean_url,city,country_code,coords[0],coords[1])"
   ]
  },
  {
   "cell_type": "code",
   "execution_count": 8,
   "metadata": {
    "collapsed": true
   },
   "outputs": [],
   "source": [
    "# Convert API response to dataframe\n",
    "def response2df(response, url='not provided'):\n",
    "    # assume input is a good API call to OpenWeatherMap API\n",
    "    \n",
    "    # output variables\n",
    "    city = response['name']\n",
    "    country_code = response['sys']['country']\n",
    "    humidity = response['main']['humidity']\n",
    "    temperature = response['main']['temp']\n",
    "    cloudiness = response['clouds']['all']\n",
    "    windspeed = response['wind']['speed']\n",
    "    latitude = response['coord']['lat']\n",
    "    longitude = response['coord']['lon']\n",
    "        \n",
    "    # Create dataframe of output variables\n",
    "    output_order = ['City', 'Country Code', 'Latitude',\n",
    "        'Longitude', 'Temperature', 'Humidity',\n",
    "        'Cloudiness', 'Wind Speed', 'URL']\n",
    "    out = pd.DataFrame({\n",
    "        'City' : city,\n",
    "        'Country Code' : country_code,\n",
    "        'Latitude' : latitude,\n",
    "        'Longitude' : longitude,\n",
    "        'Temperature' : temperature,\n",
    "        'Humidity' : humidity,\n",
    "        'Cloudiness' : cloudiness,\n",
    "        'Wind Speed' : windspeed,\n",
    "        'URL' : url\n",
    "    }, index = [0])\n",
    "    \n",
    "    return out[output_order]"
   ]
  },
  {
   "cell_type": "code",
   "execution_count": 18,
   "metadata": {
    "collapsed": true
   },
   "outputs": [],
   "source": [
    "def rand_city_data(debug = False):\n",
    "    is_valid = False\n",
    "    while is_valid == False:\n",
    "        tic = time()\n",
    "        response, url, city, country_code, lat, lon = rand_city_API(debug = debug)\n",
    "        if response['cod'] == 200:\n",
    "            df = response2df(response, url = url)\n",
    "            is_valid = True\n",
    "        else:\n",
    "            # write to failed query log\n",
    "            add_failed_query(city,country_code,lat,lon)\n",
    "            is_valid = False\n",
    "        toc = time()\n",
    "        if (toc - tic) < 1: # rate limit is 60 calls per minute => 1 call per second\n",
    "            sleep(1 - (toc - tic))\n",
    "            # print('.', end='')\n",
    "    return df"
   ]
  },
  {
   "cell_type": "code",
   "execution_count": 58,
   "metadata": {
    "scrolled": true
   },
   "outputs": [
    {
     "name": "stdout",
     "output_type": "stream",
     "text": [
      "Data Generation started at: 13 Dec 2017 21:56:39\n",
      ".....................\n",
      "Generated 268 unique cities out of 500 requested.\n",
      "\n",
      "Iteration: 2\n",
      "Generated 354 unique cities out of 500 requested.\n",
      "Time since start: 12.56 min\n",
      "\n",
      "Iteration: 3\n",
      "Generated 406 unique cities out of 500 requested.\n",
      "Time since start: 15.09 min\n",
      "\n",
      "Iteration: 4\n",
      "Generated 429 unique cities out of 500 requested.\n",
      "Time since start: 16.7 min\n",
      "\n",
      "Iteration: 5\n",
      "Generated 450 unique cities out of 500 requested.\n",
      "Time since start: 17.89 min\n",
      "..........\n",
      "Iteration: 6\n",
      "Generated 465 unique cities out of 500 requested.\n",
      "Time since start: 18.74 min\n",
      ".....\n",
      "Iteration: 7\n",
      "Generated 479 unique cities out of 500 requested.\n",
      "Time since start: 19.33 min\n",
      "\n",
      "Iteration: 8\n",
      "Generated 485 unique cities out of 500 requested.\n",
      "Time since start: 19.68 min\n",
      "...............\n",
      "Iteration: 9\n",
      "Generated 491 unique cities out of 500 requested.\n",
      "Time since start: 19.93 min\n",
      ".........\n",
      "Iteration: 10\n",
      "Generated 493 unique cities out of 500 requested.\n",
      "Time since start: 20.08 min\n",
      ".......\n",
      "Iteration: 11\n",
      "Generated 496 unique cities out of 500 requested.\n",
      "Time since start: 20.2 min\n",
      "....\n",
      "Iteration: 12\n",
      "Generated 497 unique cities out of 500 requested.\n",
      "Time since start: 20.27 min\n",
      "...\n",
      "Iteration: 13\n",
      "Generated 498 unique cities out of 500 requested.\n",
      "Time since start: 20.33 min\n",
      "..\n",
      "Iteration: 14\n",
      "Generated 498 unique cities out of 500 requested.\n",
      "Time since start: 20.38 min\n",
      "..\n",
      "Iteration: 15\n",
      "Generated 499 unique cities out of 500 requested.\n",
      "Time since start: 20.41 min\n",
      ".\n",
      "Iteration: 16\n",
      "Generated 500 unique cities out of 500 requested.\n",
      "Time since start: 20.43 min\n",
      "Data Generation finished at: 13 Dec 2017 22:17:04\n",
      "Time to Generate Dataset: 20.43 minutes. (1225.72s)\n"
     ]
    }
   ],
   "source": [
    "# Generate Data Set\n",
    "tic = time() # Track time to generate dataset\n",
    "print('Data Generation started at: ' + strftime('%d %b %Y %H:%M:%S', gmtime()))\n",
    "n_cities = 500\n",
    "\n",
    "data = rand_city_data() # initial df to append to\n",
    "print('.', end='')\n",
    "# print('Time since start: ' + str(round((time() - tic)/60,2)) + ' min')\n",
    "\n",
    "n_iterations = 1\n",
    "for i in range(n_cities - 1): # subtract 1 to accomodate for initial df\n",
    "    data = data.append(rand_city_data(), ignore_index=True)\n",
    "    # Print status update every 5% complete\n",
    "    if i % max((len(range(n_cities - 1))+1)//20,1) == 0: # +1 to correct for for loop call\n",
    "        print('.', end='')\n",
    "print('\\nGenerated ' + str(len((data['City']+data['Country Code']).unique())) + \n",
    "      ' unique cities out of ' + str(n_cities) + ' requested.')\n",
    "# print('Time since start: ' + str(round((time() - tic)/60,2)) + ' min')\n",
    "\n",
    "# Check if unique cities meets criteria\n",
    "# if not, drop duplicate rows and replace with new data\n",
    "while (data['City']+data['Country Code']).nunique() != n_cities:\n",
    "    n_replace = n_cities - len((data['City']+data['Country Code']).unique())\n",
    "    for i in range(n_replace): \n",
    "        data = data.append(rand_city_data(), ignore_index=True)\n",
    "        if (i+1) % max(len(range(n_replace))//20,1) == 0: # +1 to correct for 0 index\n",
    "            print('.', end='')\n",
    "    n_iterations += 1\n",
    "    print('\\nIteration: ' + str(n_iterations))\n",
    "    print('Generated ' + str(len((data['City']+data['Country Code']).unique())) + \n",
    "          ' unique cities out of ' + str(n_cities) + ' requested.')\n",
    "    print('Time since start: ' + str(round((time() - tic)/60,2)) + ' min')\n",
    "    data.drop_duplicates(keep = 'first', inplace = True)\n",
    "\n",
    "toc = time()\n",
    "\n",
    "# Print Data Set to .csv\n",
    "t_stamp = strftime('%d%m%Y%H%M%S', gmtime())\n",
    "gen_file_name = 'n' + str(n_cities) + 'weather_' + t_stamp + '.csv'\n",
    "gen_path = os.path.join('gen_data',gen_file_name)\n",
    "data.to_csv(gen_path, index = False)\n",
    "\n",
    "# Print dataset generation to log\n",
    "date = strftime('%d %b %Y %H:%M:%S', gmtime())\n",
    "log_generation_performance(date, toc-tic, n_cities, n_iterations, gen_path)\n",
    "print('Data Generation finished at: ' + strftime('%d %b %Y %H:%M:%S', gmtime()))\n",
    "print('Time to Generate Dataset: ' + str(round((toc-tic)/60,2)) + ' minutes. (' + str(round(toc-tic,2)) + 's)')"
   ]
  },
  {
   "cell_type": "markdown",
   "metadata": {},
   "source": [
    "# Plot scatterplot of coordinates for coverage"
   ]
  },
  {
   "cell_type": "code",
   "execution_count": null,
   "metadata": {},
   "outputs": [],
   "source": [
    "plt.figure(figsize=(10,6))\n",
    "failures = pd.read_csv('failed_queries.csv')\n",
    "plt.plot(data['Longitude'],data['Latitude'],'b.',label = 'Used Coordinates')\n",
    "plt.plot(failures['Longitude'],failures['Latitude'],'r.', alpha = 0.3, label = 'Failed Coordinates')\n",
    "plt.xlim([-180,180])\n",
    "plt.ylim([-90,90])\n",
    "plt.legend(loc = 'best')\n",
    "plt.xlabel('Longitude')\n",
    "plt.ylabel('Latitude')\n",
    "plt.title('Coordinates of Dataset')\n",
    "plt.grid(True)\n",
    "plt.show()"
   ]
  },
  {
   "cell_type": "markdown",
   "metadata": {},
   "source": [
    "# Plot Temperature vs. Latitude"
   ]
  },
  {
   "cell_type": "code",
   "execution_count": null,
   "metadata": {},
   "outputs": [],
   "source": [
    "plt.plot(data['Latitude'],data['Temperature'],'.')\n",
    "plt.xlim([-90,90])\n",
    "plt.xlabel('Latitude')\n",
    "plt.ylabel('Temperature (C)')\n",
    "plt.title('Temperature vs. Latitude\\n(' + date + ')')\n",
    "plt.grid(True)\n",
    "plt.show()"
   ]
  },
  {
   "cell_type": "markdown",
   "metadata": {},
   "source": [
    "# Plot Humidity vs. Latitude and Longitude"
   ]
  },
  {
   "cell_type": "code",
   "execution_count": null,
   "metadata": {},
   "outputs": [],
   "source": [
    "plt.figure(figsize = (15,5))\n",
    "plt.subplot(1,2,1)\n",
    "plt.plot(data['Latitude'],data['Humidity'],'.')\n",
    "plt.xlim([-90,90])\n",
    "plt.xlabel('Latitude')\n",
    "plt.ylabel('Humidity (%)')\n",
    "plt.title('Humidity vs. Latitude\\n(' + date + ')')\n",
    "plt.grid(True)\n",
    "plt.subplot(1,2,2)\n",
    "plt.plot(data['Longitude'],data['Humidity'],'.')\n",
    "plt.xlim([-180,190])\n",
    "plt.xlabel('Longitude')\n",
    "plt.ylabel('Humidity (%)')\n",
    "plt.title('Humidity vs. Longitude\\n(' + date + ')')\n",
    "plt.grid(True)\n",
    "plt.show()"
   ]
  },
  {
   "cell_type": "markdown",
   "metadata": {},
   "source": [
    "# Plot Cloudiness vs. Latitude"
   ]
  },
  {
   "cell_type": "code",
   "execution_count": null,
   "metadata": {},
   "outputs": [],
   "source": [
    "plt.figure(figsize = (15,5))\n",
    "plt.subplot(1,2,1)\n",
    "plt.plot(data['Latitude'],data['Cloudiness'],'.')\n",
    "plt.xlim([-90,90])\n",
    "plt.xlabel('Latitude')\n",
    "plt.ylabel('Cloudiness (%)')\n",
    "plt.title('Cloudiness vs. Latitude\\n(' + date + ')')\n",
    "plt.grid(True)\n",
    "plt.subplot(1,2,2)\n",
    "plt.plot(data['Longitude'],data['Cloudiness'],'.')\n",
    "plt.xlim([-180,180])\n",
    "plt.xlabel('Longitude')\n",
    "plt.ylabel('Cloudiness (%)')\n",
    "plt.title('Cloudiness vs. Longitude\\n(' + date + ')')\n",
    "plt.grid(True)\n",
    "plt.show()"
   ]
  },
  {
   "cell_type": "markdown",
   "metadata": {},
   "source": [
    "# Plot Wind Speed vs. Latitude"
   ]
  },
  {
   "cell_type": "code",
   "execution_count": null,
   "metadata": {},
   "outputs": [],
   "source": [
    "plt.figure(figsize = (15,5))\n",
    "plt.subplot(1,2,1)\n",
    "plt.plot(data['Latitude'],data['Wind Speed'],'.')\n",
    "plt.xlim([-90,90])\n",
    "plt.xlabel('Latitude')\n",
    "plt.ylabel('Wind Speed (mph)')\n",
    "plt.title('Wind Speed vs. Latitude\\n(' + date + ')')\n",
    "plt.grid(True)\n",
    "plt.subplot(1,2,2)\n",
    "plt.plot(data['Longitude'],data['Wind Speed'],'.')\n",
    "plt.xlim([-180,180])\n",
    "plt.xlabel('Longitude')\n",
    "plt.ylabel('Wind Speed (mph)')\n",
    "plt.title('Wind Speed vs. Longitude\\n(' + date + ')')\n",
    "plt.grid(True)\n",
    "plt.show()"
   ]
  }
 ],
 "metadata": {
  "kernelspec": {
   "display_name": "Python 3",
   "language": "python",
   "name": "python3"
  },
  "language_info": {
   "codemirror_mode": {
    "name": "ipython",
    "version": 3
   },
   "file_extension": ".py",
   "mimetype": "text/x-python",
   "name": "python",
   "nbconvert_exporter": "python",
   "pygments_lexer": "ipython3",
   "version": "3.6.3"
  }
 },
 "nbformat": 4,
 "nbformat_minor": 2
}
