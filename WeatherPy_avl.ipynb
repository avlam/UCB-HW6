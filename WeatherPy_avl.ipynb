{
 "cells": [
  {
   "cell_type": "markdown",
   "metadata": {},
   "source": [
    "# WeatherPy \n",
    "UCB Extension HW6\n",
    "written by A. Lam"
   ]
  },
  {
   "cell_type": "code",
   "execution_count": 33,
   "metadata": {},
   "outputs": [],
   "source": [
    "# Modules\n",
    "# Other modules are imported within the functions in which they are relevant\n",
    "import pandas as pd"
   ]
  },
  {
   "cell_type": "code",
   "execution_count": 31,
   "metadata": {},
   "outputs": [],
   "source": [
    "# Sample API Query\n",
    "# API query structure\n",
    "base_url = 'http://api.openweathermap.org/data/2.5/weather'\n",
    "api_key = '&appid=' + owm.avl\n",
    "# by city id query string\n",
    "city_id = 'tainan'\n",
    "country_code = 'tw'\n",
    "city_id_q = '?q=' + city_id + ',' + country_code\n",
    "units = '&units=imperial'\n",
    "url = base_url+city_id_q+units+api_key\n",
    "\n",
    "# query to API\n",
    "response = req.get(url).json()\n",
    "# print(json.dumps(response,indent=2,sort_keys = True))\n",
    "\n",
    "# Humidity (%)\n",
    "# response['main']['humidity']\n",
    "# Temperature (def = K, units = imperial: F)\n",
    "# response['main']['temp']\n",
    "# Temp. alternatives:\n",
    "# response['main']['temp_max']\n",
    "# response['main']['temp_min']\n",
    "# Cloudiness (%)\n",
    "# response['clouds']['all']\n",
    "# Windspeed (def = m/s, units = imperial: mph)\n",
    "# response['wind']['speed']"
   ]
  },
  {
   "cell_type": "code",
   "execution_count": 34,
   "metadata": {},
   "outputs": [],
   "source": [
    "# Create function to generate coordinates\n",
    "def rand_coord():\n",
    "    import random\n",
    "    # Lat ranges from degrees [-90, 90] (N,S)\n",
    "    lat = round(180*random.random()-90,2) \n",
    "    # Long ranges from degrees [-180, 180] (E,W)\n",
    "    long = round(360*random.random()-180,2)\n",
    "    return [lat,long]"
   ]
  },
  {
   "cell_type": "code",
   "execution_count": 35,
   "metadata": {},
   "outputs": [],
   "source": [
    "# Create function to convert coordinates to city and country code string\n",
    "def coord2city(coords):\n",
    "    # assume coords is a 2 item list of form: [lat,long]\n",
    "    from citipy import citipy\n",
    "    # extracts city name\n",
    "    city = citipy.nearest_city(coords[0],coords[1]).city_name\n",
    "    # extracts country code\n",
    "    country = citipy.nearest_city(coords[0],coords[1]).country_code\n",
    "    out = [city, country]\n",
    "    return out"
   ]
  },
  {
   "cell_type": "code",
   "execution_count": 44,
   "metadata": {},
   "outputs": [],
   "source": [
    "# Create function to automate API call for random city\n",
    "def rand_city_data():\n",
    "    # Modules\n",
    "    import requests as req\n",
    "    import json\n",
    "    import OpenWeatherMap_API as owm\n",
    "    import pandas as pd\n",
    "    # generate city and log coords, name, and country\n",
    "    coords = rand_coord()\n",
    "    place = coord2city(coords)\n",
    "    \n",
    "    # Keep variables for output\n",
    "    city = place[0]\n",
    "    country_code = place[1]\n",
    "    \n",
    "    city_id_q = '?q=' + city + ',' + country_code\n",
    "    # API query structure\n",
    "    base_url = 'http://api.openweathermap.org/data/2.5/weather'\n",
    "    api_key = '&appid=' + owm.avl\n",
    "    units = '&units=imperial'\n",
    "    # construct query URL\n",
    "    url = base_url+city_id_q+units+api_key\n",
    "    # make API call\n",
    "    response = req.get(url).json()\n",
    "    \n",
    "    # output variables\n",
    "    humidity = response['main']['humidity']\n",
    "    temperature = response['main']['temp']\n",
    "    cloudiness = response['clouds']['all']\n",
    "    windspeed = response['wind']['speed']\n",
    "    url_clean = base_url+city_id_q+units+'&appid=InsertKey'\n",
    "    latitude = coords[0]\n",
    "    longitude = coords[1]\n",
    "    \n",
    "    # Create dataframe of output variables\n",
    "    output_order = ['City', 'Country Code', 'Latitude',\n",
    "        'Longitude', 'Temperature', 'Humidity',\n",
    "        'Cloudiness', 'Wind Speed', 'URL']\n",
    "    out = pd.DataFrame({\n",
    "        'City' : city,\n",
    "        'Country Code' : country_code,\n",
    "        'Latitude' : latitude,\n",
    "        'Longitude' : longitude,\n",
    "        'Temperature' : temperature,\n",
    "        'Humidity' : humidity,\n",
    "        'Cloudiness' : cloudiness,\n",
    "        'Wind Speed' : windspeed,\n",
    "        'URL' : url_clean\n",
    "    }, index = [0])\n",
    "    \n",
    "    return out[output_order]"
   ]
  },
  {
   "cell_type": "code",
   "execution_count": 45,
   "metadata": {},
   "outputs": [
    {
     "name": "stdout",
     "output_type": "stream",
     "text": [
      "[-51.11, 33.95]\n",
      "['port alfred', 'za']\n",
      "['hobart', 'au']\n"
     ]
    },
    {
     "data": {
      "text/html": [
       "<div>\n",
       "<style scoped>\n",
       "    .dataframe tbody tr th:only-of-type {\n",
       "        vertical-align: middle;\n",
       "    }\n",
       "\n",
       "    .dataframe tbody tr th {\n",
       "        vertical-align: top;\n",
       "    }\n",
       "\n",
       "    .dataframe thead th {\n",
       "        text-align: right;\n",
       "    }\n",
       "</style>\n",
       "<table border=\"1\" class=\"dataframe\">\n",
       "  <thead>\n",
       "    <tr style=\"text-align: right;\">\n",
       "      <th></th>\n",
       "      <th>City</th>\n",
       "      <th>Country Code</th>\n",
       "      <th>Latitude</th>\n",
       "      <th>Longitude</th>\n",
       "      <th>Temperature</th>\n",
       "      <th>Humidity</th>\n",
       "      <th>Cloudiness</th>\n",
       "      <th>Wind Speed</th>\n",
       "      <th>URL</th>\n",
       "    </tr>\n",
       "  </thead>\n",
       "  <tbody>\n",
       "    <tr>\n",
       "      <th>0</th>\n",
       "      <td>atuona</td>\n",
       "      <td>pf</td>\n",
       "      <td>1.52</td>\n",
       "      <td>-150.09</td>\n",
       "      <td>79.55</td>\n",
       "      <td>100</td>\n",
       "      <td>20</td>\n",
       "      <td>11.77</td>\n",
       "      <td>http://api.openweathermap.org/data/2.5/weather...</td>\n",
       "    </tr>\n",
       "    <tr>\n",
       "      <th>1</th>\n",
       "      <td>busselton</td>\n",
       "      <td>au</td>\n",
       "      <td>-88.23</td>\n",
       "      <td>87.51</td>\n",
       "      <td>72.04</td>\n",
       "      <td>88</td>\n",
       "      <td>0</td>\n",
       "      <td>17.58</td>\n",
       "      <td>http://api.openweathermap.org/data/2.5/weather...</td>\n",
       "    </tr>\n",
       "  </tbody>\n",
       "</table>\n",
       "</div>"
      ],
      "text/plain": [
       "        City Country Code  Latitude  Longitude  Temperature  Humidity  \\\n",
       "0     atuona           pf      1.52    -150.09        79.55       100   \n",
       "1  busselton           au    -88.23      87.51        72.04        88   \n",
       "\n",
       "   Cloudiness  Wind Speed                                                URL  \n",
       "0          20       11.77  http://api.openweathermap.org/data/2.5/weather...  \n",
       "1           0       17.58  http://api.openweathermap.org/data/2.5/weather...  "
      ]
     },
     "execution_count": 45,
     "metadata": {},
     "output_type": "execute_result"
    }
   ],
   "source": [
    "# Test functions to generate cities\n",
    "test = rand_coord()\n",
    "print(test)\n",
    "print(coord2city(test))\n",
    "print(coord2city(rand_coord()))\n",
    "coord2city(rand_coord())[0]\n",
    "\n",
    "test = rand_city_data()\n",
    "test.append(rand_city_data(),ignore_index = True)"
   ]
  },
  {
   "cell_type": "code",
   "execution_count": null,
   "metadata": {},
   "outputs": [],
   "source": []
  }
 ],
 "metadata": {
  "kernelspec": {
   "display_name": "Python 3",
   "language": "python",
   "name": "python3"
  },
  "language_info": {
   "codemirror_mode": {
    "name": "ipython",
    "version": 3
   },
   "file_extension": ".py",
   "mimetype": "text/x-python",
   "name": "python",
   "nbconvert_exporter": "python",
   "pygments_lexer": "ipython3",
   "version": "3.6.3"
  }
 },
 "nbformat": 4,
 "nbformat_minor": 2
}
